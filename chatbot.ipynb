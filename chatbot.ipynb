{
 "cells": [
  {
   "cell_type": "code",
   "execution_count": null,
   "id": "ece5397d-f83c-4c32-b04e-92cd82c9cf8b",
   "metadata": {},
   "outputs": [
    {
     "name": "stdout",
     "output_type": "stream",
     "text": [
      "Chatbot Initialized! Type 'exit' to stop.\n"
     ]
    },
    {
     "name": "stdin",
     "output_type": "stream",
     "text": [
      "\n",
      "You:  Show me all employees in HR.\n"
     ]
    },
    {
     "name": "stdout",
     "output_type": "stream",
     "text": [
      "Chatbot: I didn't understand the query. We are still in development phase.\n"
     ]
    },
    {
     "name": "stdin",
     "output_type": "stream",
     "text": [
      "\n",
      "You:  Who is the manager of HR?\n"
     ]
    },
    {
     "name": "stdout",
     "output_type": "stream",
     "text": [
      "Chatbot: I didn't understand the query. We are still in development phase.\n"
     ]
    },
    {
     "name": "stdin",
     "output_type": "stream",
     "text": [
      "\n",
      "You:  List all employees hired after 2025-01-01.\n"
     ]
    },
    {
     "name": "stdout",
     "output_type": "stream",
     "text": [
      "Chatbot: No employees found.\n"
     ]
    },
    {
     "name": "stdin",
     "output_type": "stream",
     "text": [
      "\n",
      "You:  show me all employees in the hr department\n"
     ]
    },
    {
     "name": "stdout",
     "output_type": "stream",
     "text": [
      "Chatbot: No employees found.\n"
     ]
    }
   ],
   "source": [
    "import sqlite3\n",
    "import re\n",
    "\n",
    "def get_response(query):\n",
    "    conn = sqlite3.connect(\"company_info.db\")\n",
    "    cursor = conn.cursor()\n",
    "\n",
    "    try:\n",
    "        # 1. Show all employees in a department\n",
    "        if match := re.match(r\"show me all employees in the (\\w+) department\", query, re.I):\n",
    "            department = match.group(1).capitalize()\n",
    "            cursor.execute(\"SELECT Name FROM Employees WHERE Department = ?\", (department,))\n",
    "            employees = cursor.fetchall()\n",
    "            return f\"Employees in {department}: \" + \", \".join(emp[0] for emp in employees) if employees else \"No employees found.\"\n",
    "\n",
    "        # 2. Who is the manager of a department?\n",
    "        elif match := re.match(r\"who is the manager of the (\\w+) department\", query, re.I):\n",
    "            department = match.group(1).capitalize()\n",
    "            cursor.execute(\"SELECT Manager FROM Departments WHERE Name = ?\", (department,))\n",
    "            manager = cursor.fetchone()\n",
    "            return f\"The manager of {department} is {manager[0]}\" if manager else \"Department not found.\"\n",
    "\n",
    "        # 3. List all employees hired after a specific date\n",
    "        elif match := re.match(r\"list all employees hired after (\\d{4}-\\d{2}-\\d{2})\", query, re.I):\n",
    "            hire_date = match.group(1)\n",
    "            cursor.execute(\"SELECT Name FROM Employees WHERE Hire_Date > ?\", (hire_date,))\n",
    "            employees = cursor.fetchall()\n",
    "            return \"Employees hired after {}: {}\".format(hire_date, \", \".join(emp[0] for emp in employees)) if employees else \"No employees found.\"\n",
    "\n",
    "        # 4. Total salary expense for a department\n",
    "        elif match := re.match(r\"what is the total salary expense for the (\\w+) department\", query, re.I):\n",
    "            department = match.group(1).capitalize()\n",
    "            cursor.execute(\"SELECT SUM(Salary) FROM Employees WHERE Department = ?\", (department,))\n",
    "            total_salary = cursor.fetchone()\n",
    "            return f\"Total salary expense for {department} is ${total_salary[0]}\" if total_salary and total_salary[0] else \"Department not found or no salaries recorded.\"\n",
    "\n",
    "        # 5. Highest salary in a department\n",
    "        elif match := re.match(r\"what is the highest salary in the (\\w+) department\", query, re.I):\n",
    "            department = match.group(1).capitalize()\n",
    "            cursor.execute(\"SELECT MAX(Salary) FROM Employees WHERE Department = ?\", (department,))\n",
    "            highest_salary = cursor.fetchone()\n",
    "            return f\"The highest salary in {department} is ${highest_salary[0]}\" if highest_salary and highest_salary[0] else \"Department not found or no salary data available.\"\n",
    "\n",
    "        # 6. Lowest salary in a department\n",
    "        elif match := re.match(r\"what is the lowest salary in the (\\w+) department\", query, re.I):\n",
    "            department = match.group(1).capitalize()\n",
    "            cursor.execute(\"SELECT MIN(Salary) FROM Employees WHERE Department = ?\", (department,))\n",
    "            lowest_salary = cursor.fetchone()\n",
    "            return f\"The lowest salary in {department} is ${lowest_salary[0]}\" if lowest_salary and lowest_salary[0] else \"Department not found or no salary data available.\"\n",
    "\n",
    "        # 7. Highest and lowest salary in a department\n",
    "        elif match := re.match(r\"what is the highest and lowest salary in the (\\w+) department\", query, re.I):\n",
    "            department = match.group(1).capitalize()\n",
    "            cursor.execute(\"SELECT MAX(Salary), MIN(Salary) FROM Employees WHERE Department = ?\", (department,))\n",
    "            result = cursor.fetchone()\n",
    "            return f\"In {department}, the highest salary is ${result[0]} and the lowest salary is ${result[1]}.\" if result and result[0] is not None else \"Department not found or no salary data available.\"\n",
    "\n",
    "        # 8. Highest salary across all departments\n",
    "        elif re.match(r\"what is the highest salary in all the departments\", query, re.I):\n",
    "            cursor.execute(\"SELECT MAX(Salary) FROM Employees\")\n",
    "            highest_salary = cursor.fetchone()\n",
    "            return f\"The highest salary across all departments is ${highest_salary[0]}\" if highest_salary and highest_salary[0] else \"No salary data available.\"\n",
    "\n",
    "        # 9. List all unique departments\n",
    "        elif re.match(r\"list all departments\", query, re.I):\n",
    "            cursor.execute(\"SELECT DISTINCT Name FROM Departments\")\n",
    "            departments = cursor.fetchall()\n",
    "            return \"All the departments: \" + \", \".join(dept[0] for dept in departments) if departments else \"No departments found.\"\n",
    "\n",
    "        # 10. List all employees\n",
    "        elif re.match(r\"list all the employees\", query, re.I):\n",
    "            cursor.execute(\"SELECT Name FROM Employees\")\n",
    "            employees = cursor.fetchall()\n",
    "            return \"All employees: \" + \", \".join(emp[0] for emp in employees) if employees else \"No employees found.\"\n",
    "\n",
    "        # 11. Show complete data of Employees\n",
    "        elif re.match(r\"show complete data of employees\", query, re.I):\n",
    "            cursor.execute(\"SELECT * FROM Employees\")\n",
    "            employees = cursor.fetchall()\n",
    "            if employees:\n",
    "                return \"Employees Data:\\n\" + \"\\n\".join(f\"ID: {e[0]}, Name: {e[1]}, Department: {e[2]}, Salary: {e[3]}, Hire Date: {e[4]}\" for e in employees)\n",
    "            return \"No employees found.\"\n",
    "\n",
    "        # 12. Show complete data of Departments\n",
    "        elif re.match(r\"show complete data of departments\", query, re.I):\n",
    "            cursor.execute(\"SELECT * FROM Departments\")\n",
    "            departments = cursor.fetchall()\n",
    "            if departments:\n",
    "                return \"Departments Data:\\n\" + \"\\n\".join(f\"ID: {d[0]}, Name: {d[1]}, Manager: {d[2]}\" for d in departments)\n",
    "            return \"No departments found.\"\n",
    "\n",
    "        else:\n",
    "            return \"I didn't understand the query. We are still in development phase.\"\n",
    "\n",
    "    except sqlite3.Error as e:\n",
    "        return f\"Database error: {e}\"\n",
    "\n",
    "    finally:\n",
    "        conn.close()\n",
    "\n",
    "# Interactive Chat\n",
    "print(\"Chatbot Initialized! Type 'exit' to stop.\")\n",
    "while True:\n",
    "    user_query = input(\"\\nYou: \")\n",
    "    if user_query.lower() == \"exit\":\n",
    "        print(\"Chatbot: Goodbye!\")\n",
    "        break\n",
    "    response = get_response(user_query)\n",
    "    print(f\"Chatbot: {response}\")\n"
   ]
  },
  {
   "cell_type": "code",
   "execution_count": null,
   "id": "072d77c1-d981-4686-9611-6797c897c925",
   "metadata": {},
   "outputs": [],
   "source": []
  }
 ],
 "metadata": {
  "kernelspec": {
   "display_name": "Python 3 (ipykernel)",
   "language": "python",
   "name": "python3"
  },
  "language_info": {
   "codemirror_mode": {
    "name": "ipython",
    "version": 3
   },
   "file_extension": ".py",
   "mimetype": "text/x-python",
   "name": "python",
   "nbconvert_exporter": "python",
   "pygments_lexer": "ipython3",
   "version": "3.12.4"
  }
 },
 "nbformat": 4,
 "nbformat_minor": 5
}
