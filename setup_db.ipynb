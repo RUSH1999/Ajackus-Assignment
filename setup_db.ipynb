{
 "cells": [
  {
   "cell_type": "code",
   "execution_count": 2,
   "id": "fed8873e-aaff-462b-b2d5-b0b49644513d",
   "metadata": {},
   "outputs": [
    {
     "name": "stdout",
     "output_type": "stream",
     "text": [
      "Requirement already satisfied: db-sqlite3 in c:\\users\\rupes\\anaconda3\\lib\\site-packages (0.0.1)\n",
      "Requirement already satisfied: db in c:\\users\\rupes\\anaconda3\\lib\\site-packages (from db-sqlite3) (0.1.1)\n",
      "Requirement already satisfied: antiorm in c:\\users\\rupes\\anaconda3\\lib\\site-packages (from db->db-sqlite3) (1.2.1)\n",
      "Note: you may need to restart the kernel to use updated packages.\n"
     ]
    }
   ],
   "source": [
    "pip install db-sqlite3"
   ]
  },
  {
   "cell_type": "code",
   "execution_count": 15,
   "id": "0025a35d-543e-43e5-b633-f121ee3804c0",
   "metadata": {},
   "outputs": [
    {
     "name": "stdout",
     "output_type": "stream",
     "text": [
      "Database setup completed.\n"
     ]
    }
   ],
   "source": [
    "import sqlite3\n",
    "\n",
    "def setup_database():\n",
    "    conn = sqlite3.connect(\"company_info.db\")\n",
    "    cursor = conn.cursor()\n",
    "\n",
    "    # Create Employees table\n",
    "    cursor.execute('''CREATE TABLE IF NOT EXISTS Employees (\n",
    "                        ID INTEGER PRIMARY KEY,\n",
    "                        Name TEXT,\n",
    "                        Department TEXT,\n",
    "                        Salary INTEGER,\n",
    "                        Hire_Date TEXT\n",
    "                    )''')\n",
    "\n",
    "    # Create Departments table\n",
    "    cursor.execute('''CREATE TABLE IF NOT EXISTS Departments (\n",
    "                        ID INTEGER PRIMARY KEY,\n",
    "                        Name TEXT,\n",
    "                        Manager TEXT\n",
    "                    )''')\n",
    "\n",
    "    # Insert sample data\n",
    "    cursor.executemany(\"INSERT INTO Employees VALUES (?, ?, ?, ?, ?)\", [\n",
    "        (1, \"Alice\", \"Sales\", 50000, \"2021-01-15\"),\n",
    "        (2, \"Bob\", \"Engineering\", 70000, \"2020-06-10\"),\n",
    "        (3, \"Charlie\", \"Marketing\", 60000, \"2022-03-20\"),\n",
    "        (4, \"Mark\", \"Engineering\", 80000, \"2023-06-27\"),\n",
    "        (5, \"Ricky\", \"Sales\", 60000, \"2022-04-20\")\n",
    "    ])\n",
    "\n",
    "    cursor.executemany(\"INSERT INTO Departments VALUES (?, ?, ?)\", [\n",
    "        (1, \"Sales\", \"Alice\"),\n",
    "        (2, \"Engineering\", \"Bob\"),\n",
    "        (3, \"Marketing\", \"Charlie\"),\n",
    "        (4, \"Engineering\", \"Mark\"),\n",
    "        (5, \"Sales\", \"Ricky\")\n",
    "    ])\n",
    "\n",
    "    conn.commit()\n",
    "    conn.close()\n",
    "    print(\"Database setup completed.\")\n",
    "\n",
    "setup_database()"
   ]
  },
  {
   "cell_type": "code",
   "execution_count": null,
   "id": "be7112ff-4d71-4459-bfcb-2a7ce86a0da7",
   "metadata": {},
   "outputs": [],
   "source": []
  }
 ],
 "metadata": {
  "kernelspec": {
   "display_name": "Python 3 (ipykernel)",
   "language": "python",
   "name": "python3"
  },
  "language_info": {
   "codemirror_mode": {
    "name": "ipython",
    "version": 3
   },
   "file_extension": ".py",
   "mimetype": "text/x-python",
   "name": "python",
   "nbconvert_exporter": "python",
   "pygments_lexer": "ipython3",
   "version": "3.12.4"
  }
 },
 "nbformat": 4,
 "nbformat_minor": 5
}
